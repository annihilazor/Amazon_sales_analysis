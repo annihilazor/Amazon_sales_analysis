{
 "cells": [
  {
   "cell_type": "code",
   "execution_count": 1,
   "id": "74686843-0a3c-4527-ab44-7fa878f32dac",
   "metadata": {},
   "outputs": [
    {
     "name": "stdout",
     "output_type": "stream",
     "text": [
      "   index             Order ID      Date                        Status  \\\n",
      "0      0  405-8078784-5731545  04-30-22                     Cancelled   \n",
      "1      1  171-9198151-1101146  04-30-22  Shipped - Delivered to Buyer   \n",
      "2      2  404-0687676-7273146  04-30-22                       Shipped   \n",
      "3      3  403-9615377-8133951  04-30-22                     Cancelled   \n",
      "4      4  407-1069790-7240320  04-30-22                       Shipped   \n",
      "\n",
      "  Fulfilment Sales Channel ship-service-level  Category Size Courier Status  \\\n",
      "0   Merchant     Amazon.in           Standard   T-shirt    S     On the Way   \n",
      "1   Merchant     Amazon.in           Standard     Shirt  3XL        Shipped   \n",
      "2     Amazon     Amazon.in          Expedited     Shirt   XL        Shipped   \n",
      "3   Merchant     Amazon.in           Standard   Blazzer    L     On the Way   \n",
      "4     Amazon     Amazon.in          Expedited  Trousers  3XL        Shipped   \n",
      "\n",
      "   ...  currency  Amount    ship-city   ship-state ship-postal-code  \\\n",
      "0  ...       INR  647.62       MUMBAI  MAHARASHTRA         400081.0   \n",
      "1  ...       INR  406.00    BENGALURU    KARNATAKA         560085.0   \n",
      "2  ...       INR  329.00  NAVI MUMBAI  MAHARASHTRA         410210.0   \n",
      "3  ...       INR  753.33   PUDUCHERRY   PUDUCHERRY         605008.0   \n",
      "4  ...       INR  574.00      CHENNAI   TAMIL NADU         600073.0   \n",
      "\n",
      "   ship-country    B2B  fulfilled-by New  PendingS  \n",
      "0            IN  False     Easy Ship NaN       NaN  \n",
      "1            IN  False     Easy Ship NaN       NaN  \n",
      "2            IN   True           NaN NaN       NaN  \n",
      "3            IN  False     Easy Ship NaN       NaN  \n",
      "4            IN  False           NaN NaN       NaN  \n",
      "\n",
      "[5 rows x 21 columns]\n"
     ]
    }
   ],
   "source": [
    "import pandas as pd\n",
    "df=pd.read_csv('Sales.csv', encoding=\"cp1252\")\n",
    "print(df.head())\n"
   ]
  },
  {
   "cell_type": "code",
   "execution_count": 2,
   "id": "9e6ec8bf-187c-4368-98e2-85056ecd6880",
   "metadata": {},
   "outputs": [
    {
     "name": "stdout",
     "output_type": "stream",
     "text": [
      "<class 'pandas.core.frame.DataFrame'>\n",
      "RangeIndex: 128976 entries, 0 to 128975\n",
      "Data columns (total 21 columns):\n",
      " #   Column              Non-Null Count   Dtype  \n",
      "---  ------              --------------   -----  \n",
      " 0   index               128976 non-null  int64  \n",
      " 1   Order ID            128976 non-null  object \n",
      " 2   Date                128976 non-null  object \n",
      " 3   Status              128976 non-null  object \n",
      " 4   Fulfilment          128976 non-null  object \n",
      " 5   Sales Channel       128976 non-null  object \n",
      " 6   ship-service-level  128976 non-null  object \n",
      " 7   Category            128976 non-null  object \n",
      " 8   Size                128976 non-null  object \n",
      " 9   Courier Status      128976 non-null  object \n",
      " 10  Qty                 128976 non-null  int64  \n",
      " 11  currency            121176 non-null  object \n",
      " 12  Amount              121176 non-null  float64\n",
      " 13  ship-city           128941 non-null  object \n",
      " 14  ship-state          128941 non-null  object \n",
      " 15  ship-postal-code    128941 non-null  float64\n",
      " 16  ship-country        128941 non-null  object \n",
      " 17  B2B                 128976 non-null  bool   \n",
      " 18  fulfilled-by        39263 non-null   object \n",
      " 19  New                 0 non-null       float64\n",
      " 20  PendingS            0 non-null       float64\n",
      "dtypes: bool(1), float64(4), int64(2), object(14)\n",
      "memory usage: 19.8+ MB\n",
      "None\n",
      "Number of rows: 128976\n"
     ]
    }
   ],
   "source": [
    "print(df.info())\n",
    "row_count = df.shape[0]\n",
    "print(\"Number of rows:\", row_count)"
   ]
  },
  {
   "cell_type": "code",
   "execution_count": 3,
   "id": "774d906e-d273-4102-82d5-9cc254419d67",
   "metadata": {},
   "outputs": [
    {
     "name": "stdout",
     "output_type": "stream",
     "text": [
      "               index            Qty         Amount  ship-postal-code  New  \\\n",
      "count  128976.000000  128976.000000  121176.000000     128941.000000  0.0   \n",
      "mean    64486.130427       0.904401     648.562176     463945.677744  NaN   \n",
      "std     37232.897832       0.313368     281.185041     191458.488954  NaN   \n",
      "min         0.000000       0.000000       0.000000     110001.000000  NaN   \n",
      "25%     32242.750000       1.000000     449.000000     382421.000000  NaN   \n",
      "50%     64486.500000       1.000000     605.000000     500033.000000  NaN   \n",
      "75%     96730.250000       1.000000     788.000000     600024.000000  NaN   \n",
      "max    128974.000000      15.000000    5584.000000     989898.000000  NaN   \n",
      "\n",
      "       PendingS  \n",
      "count       0.0  \n",
      "mean        NaN  \n",
      "std         NaN  \n",
      "min         NaN  \n",
      "25%         NaN  \n",
      "50%         NaN  \n",
      "75%         NaN  \n",
      "max         NaN  \n"
     ]
    }
   ],
   "source": [
    "print(df.describe())"
   ]
  },
  {
   "cell_type": "code",
   "execution_count": 4,
   "id": "4f23c3ed-a258-450e-b27f-42437095017b",
   "metadata": {},
   "outputs": [
    {
     "name": "stdout",
     "output_type": "stream",
     "text": [
      "Missing values in the dataset:\n",
      " index                      0\n",
      "Order ID                   0\n",
      "Date                       0\n",
      "Status                     0\n",
      "Fulfilment                 0\n",
      "Sales Channel              0\n",
      "ship-service-level         0\n",
      "Category                   0\n",
      "Size                       0\n",
      "Courier Status             0\n",
      "Qty                        0\n",
      "currency                7800\n",
      "Amount                  7800\n",
      "ship-city                 35\n",
      "ship-state                35\n",
      "ship-postal-code          35\n",
      "ship-country              35\n",
      "B2B                        0\n",
      "fulfilled-by           89713\n",
      "New                   128976\n",
      "PendingS              128976\n",
      "dtype: int64\n"
     ]
    }
   ],
   "source": [
    "missing_values=df.isnull().sum()\n",
    "print(\"Missing values in the dataset:\\n\",missing_values)"
   ]
  },
  {
   "cell_type": "code",
   "execution_count": 5,
   "id": "8f8c8ea0-4563-4426-8132-a97aed8ab1d1",
   "metadata": {},
   "outputs": [
    {
     "name": "stdout",
     "output_type": "stream",
     "text": [
      "duplicate rows in the dataset:\n",
      "       index             Order ID      Date                        Status  \\\n",
      "201       6  408-5748499-6859555  04-30-22                       Shipped   \n",
      "202       7  406-7807733-3785945  04-30-22  Shipped - Delivered to Buyer   \n",
      "203       8  407-5443024-5233168  04-30-22                     Cancelled   \n",
      "204       9  402-4393761-0311520  04-30-22                       Shipped   \n",
      "205      10  407-5633625-6970741  04-30-22                       Shipped   \n",
      "...     ...                  ...       ...                           ...   \n",
      "6640   6278  171-5170733-7855514  04-26-22  Shipped - Delivered to Buyer   \n",
      "6641   6279  403-8137343-5206760  04-26-22  Shipped - Delivered to Buyer   \n",
      "6642   6280  408-1575454-3263526  04-26-22  Shipped - Returned to Seller   \n",
      "6643   6281  171-2918708-7197155  04-26-22  Shipped - Delivered to Buyer   \n",
      "6644   6282  406-7244956-4740355  04-26-22                       Shipped   \n",
      "\n",
      "     Fulfilment Sales Channel ship-service-level  Category Size  \\\n",
      "201      Amazon     Amazon.in          Expedited   T-shirt    L   \n",
      "202    Merchant     Amazon.in           Standard     Shirt    S   \n",
      "203      Amazon     Amazon.in          Expedited   T-shirt  3XL   \n",
      "204      Amazon     Amazon.in          Expedited     Shirt  XXL   \n",
      "205      Amazon     Amazon.in          Expedited     Shirt    S   \n",
      "...         ...           ...                ...       ...  ...   \n",
      "6640   Merchant     Amazon.in           Standard   T-shirt   XS   \n",
      "6641   Merchant     Amazon.in           Standard   T-shirt   XS   \n",
      "6642   Merchant     Amazon.in           Standard   Blazzer    M   \n",
      "6643   Merchant     Amazon.in           Standard   Blazzer  XXL   \n",
      "6644     Amazon     Amazon.in          Expedited  Trousers   XL   \n",
      "\n",
      "     Courier Status  ...  currency Amount   ship-city   ship-state  \\\n",
      "201         Shipped  ...       INR  653.0  CHANDIGARH   CHANDIGARH   \n",
      "202         Shipped  ...       INR  399.0   HYDERABAD    TELANGANA   \n",
      "203       Cancelled  ...       NaN    NaN   HYDERABAD    TELANGANA   \n",
      "204         Shipped  ...       INR  363.0     Chennai   TAMIL NADU   \n",
      "205         Shipped  ...       INR  685.0     CHENNAI   TAMIL NADU   \n",
      "...             ...  ...       ...    ...         ...          ...   \n",
      "6640        Shipped  ...       INR  582.0   HYDERABAD    TELANGANA   \n",
      "6641        Shipped  ...       INR  801.0    KALPETTA       KERALA   \n",
      "6642        Shipped  ...       INR  690.0     CHENNAI   TAMIL NADU   \n",
      "6643        Shipped  ...       INR  658.0        PUNE  MAHARASHTRA   \n",
      "6644        Shipped  ...       INR  540.0      RAJKOT      Gujarat   \n",
      "\n",
      "     ship-postal-code  ship-country    B2B  fulfilled-by New  PendingS  \n",
      "201          160036.0            IN  False           NaN NaN       NaN  \n",
      "202          500032.0            IN  False     Easy Ship NaN       NaN  \n",
      "203          500008.0            IN  False           NaN NaN       NaN  \n",
      "204          600041.0            IN  False           NaN NaN       NaN  \n",
      "205          600073.0            IN  False           NaN NaN       NaN  \n",
      "...               ...           ...    ...           ...  ..       ...  \n",
      "6640         500083.0            IN  False     Easy Ship NaN       NaN  \n",
      "6641         673122.0            IN  False     Easy Ship NaN       NaN  \n",
      "6642         600049.0            IN  False     Easy Ship NaN       NaN  \n",
      "6643         412207.0            IN  False     Easy Ship NaN       NaN  \n",
      "6644         360001.0            IN  False           NaN NaN       NaN  \n",
      "\n",
      "[168 rows x 21 columns]\n"
     ]
    }
   ],
   "source": [
    "duplicate_rows=df[df.duplicated()]\n",
    "print(\"duplicate rows in the dataset:\\n\",duplicate_rows)"
   ]
  },
  {
   "cell_type": "code",
   "execution_count": 6,
   "id": "10ea3bdc-e697-4d64-8c35-5f6e944ce179",
   "metadata": {},
   "outputs": [],
   "source": [
    "df.dropna(subset =['currency','Amount','ship-city','ship-state','ship-postal-code','ship-country'] ,inplace=True)"
   ]
  },
  {
   "cell_type": "code",
   "execution_count": 7,
   "id": "d54ccd65-da92-4429-9361-32ccfd55a3fc",
   "metadata": {},
   "outputs": [
    {
     "name": "stdout",
     "output_type": "stream",
     "text": [
      "Missing values in the dataset:\n",
      " index                      0\n",
      "Order ID                   0\n",
      "Date                       0\n",
      "Status                     0\n",
      "Fulfilment                 0\n",
      "Sales Channel              0\n",
      "ship-service-level         0\n",
      "Category                   0\n",
      "Size                       0\n",
      "Courier Status             0\n",
      "Qty                        0\n",
      "currency                   0\n",
      "Amount                     0\n",
      "ship-city                  0\n",
      "ship-state                 0\n",
      "ship-postal-code           0\n",
      "ship-country               0\n",
      "B2B                        0\n",
      "fulfilled-by           83629\n",
      "New                   121143\n",
      "PendingS              121143\n",
      "dtype: int64\n"
     ]
    }
   ],
   "source": [
    "missing_values=df.isnull().sum()\n",
    "print(\"Missing values in the dataset:\\n\",missing_values)"
   ]
  },
  {
   "cell_type": "code",
   "execution_count": 8,
   "id": "2cfa711e-fc0b-448c-bdc4-f501651a31c0",
   "metadata": {},
   "outputs": [
    {
     "name": "stdout",
     "output_type": "stream",
     "text": [
      "<class 'pandas.core.frame.DataFrame'>\n",
      "Index: 121143 entries, 0 to 128975\n",
      "Data columns (total 21 columns):\n",
      " #   Column              Non-Null Count   Dtype  \n",
      "---  ------              --------------   -----  \n",
      " 0   index               121143 non-null  int64  \n",
      " 1   Order ID            121143 non-null  object \n",
      " 2   Date                121143 non-null  object \n",
      " 3   Status              121143 non-null  object \n",
      " 4   Fulfilment          121143 non-null  object \n",
      " 5   Sales Channel       121143 non-null  object \n",
      " 6   ship-service-level  121143 non-null  object \n",
      " 7   Category            121143 non-null  object \n",
      " 8   Size                121143 non-null  object \n",
      " 9   Courier Status      121143 non-null  object \n",
      " 10  Qty                 121143 non-null  int64  \n",
      " 11  currency            121143 non-null  object \n",
      " 12  Amount              121143 non-null  float64\n",
      " 13  ship-city           121143 non-null  object \n",
      " 14  ship-state          121143 non-null  object \n",
      " 15  ship-postal-code    121143 non-null  float64\n",
      " 16  ship-country        121143 non-null  object \n",
      " 17  B2B                 121143 non-null  bool   \n",
      " 18  fulfilled-by        37514 non-null   object \n",
      " 19  New                 0 non-null       float64\n",
      " 20  PendingS            0 non-null       float64\n",
      "dtypes: bool(1), float64(4), int64(2), object(14)\n",
      "memory usage: 19.5+ MB\n",
      "None\n"
     ]
    }
   ],
   "source": [
    "print(df.info())"
   ]
  },
  {
   "cell_type": "code",
   "execution_count": 9,
   "id": "f269627f-b15c-4e23-af39-569d2a5098e3",
   "metadata": {},
   "outputs": [],
   "source": [
    "df.drop(columns=['fulfilled-by','New','PendingS'], inplace=True)"
   ]
  },
  {
   "cell_type": "code",
   "execution_count": 10,
   "id": "02cf4bb0-b005-4ca5-94c4-a876df1c5e06",
   "metadata": {},
   "outputs": [
    {
     "name": "stdout",
     "output_type": "stream",
     "text": [
      "   index             Order ID      Date                        Status  \\\n",
      "0      0  405-8078784-5731545  04-30-22                     Cancelled   \n",
      "1      1  171-9198151-1101146  04-30-22  Shipped - Delivered to Buyer   \n",
      "2      2  404-0687676-7273146  04-30-22                       Shipped   \n",
      "3      3  403-9615377-8133951  04-30-22                     Cancelled   \n",
      "4      4  407-1069790-7240320  04-30-22                       Shipped   \n",
      "\n",
      "  Fulfilment Sales Channel ship-service-level  Category Size Courier Status  \\\n",
      "0   Merchant     Amazon.in           Standard   T-shirt    S     On the Way   \n",
      "1   Merchant     Amazon.in           Standard     Shirt  3XL        Shipped   \n",
      "2     Amazon     Amazon.in          Expedited     Shirt   XL        Shipped   \n",
      "3   Merchant     Amazon.in           Standard   Blazzer    L     On the Way   \n",
      "4     Amazon     Amazon.in          Expedited  Trousers  3XL        Shipped   \n",
      "\n",
      "   Qty currency  Amount    ship-city   ship-state  ship-postal-code  \\\n",
      "0    0      INR  647.62       MUMBAI  MAHARASHTRA          400081.0   \n",
      "1    1      INR  406.00    BENGALURU    KARNATAKA          560085.0   \n",
      "2    1      INR  329.00  NAVI MUMBAI  MAHARASHTRA          410210.0   \n",
      "3    0      INR  753.33   PUDUCHERRY   PUDUCHERRY          605008.0   \n",
      "4    1      INR  574.00      CHENNAI   TAMIL NADU          600073.0   \n",
      "\n",
      "  ship-country    B2B  \n",
      "0           IN  False  \n",
      "1           IN  False  \n",
      "2           IN   True  \n",
      "3           IN  False  \n",
      "4           IN  False  \n"
     ]
    }
   ],
   "source": [
    "print(df.head())"
   ]
  },
  {
   "cell_type": "code",
   "execution_count": 11,
   "id": "678f7d59-8a6e-45e1-a5fd-7627bb51d167",
   "metadata": {},
   "outputs": [
    {
     "name": "stdout",
     "output_type": "stream",
     "text": [
      "Missing values in the dataset:\n",
      " index                 0\n",
      "Order ID              0\n",
      "Date                  0\n",
      "Status                0\n",
      "Fulfilment            0\n",
      "Sales Channel         0\n",
      "ship-service-level    0\n",
      "Category              0\n",
      "Size                  0\n",
      "Courier Status        0\n",
      "Qty                   0\n",
      "currency              0\n",
      "Amount                0\n",
      "ship-city             0\n",
      "ship-state            0\n",
      "ship-postal-code      0\n",
      "ship-country          0\n",
      "B2B                   0\n",
      "dtype: int64\n"
     ]
    }
   ],
   "source": [
    "missing_values=df.isnull().sum()\n",
    "print(\"Missing values in the dataset:\\n\",missing_values)"
   ]
  },
  {
   "cell_type": "code",
   "execution_count": 12,
   "id": "04127465-9fa5-4d10-9001-a28a6e0563aa",
   "metadata": {},
   "outputs": [
    {
     "name": "stdout",
     "output_type": "stream",
     "text": [
      "<class 'pandas.core.frame.DataFrame'>\n",
      "Index: 121143 entries, 0 to 128975\n",
      "Data columns (total 18 columns):\n",
      " #   Column              Non-Null Count   Dtype  \n",
      "---  ------              --------------   -----  \n",
      " 0   index               121143 non-null  int64  \n",
      " 1   Order ID            121143 non-null  object \n",
      " 2   Date                121143 non-null  object \n",
      " 3   Status              121143 non-null  object \n",
      " 4   Fulfilment          121143 non-null  object \n",
      " 5   Sales Channel       121143 non-null  object \n",
      " 6   ship-service-level  121143 non-null  object \n",
      " 7   Category            121143 non-null  object \n",
      " 8   Size                121143 non-null  object \n",
      " 9   Courier Status      121143 non-null  object \n",
      " 10  Qty                 121143 non-null  int64  \n",
      " 11  currency            121143 non-null  object \n",
      " 12  Amount              121143 non-null  float64\n",
      " 13  ship-city           121143 non-null  object \n",
      " 14  ship-state          121143 non-null  object \n",
      " 15  ship-postal-code    121143 non-null  float64\n",
      " 16  ship-country        121143 non-null  object \n",
      " 17  B2B                 121143 non-null  bool   \n",
      "dtypes: bool(1), float64(2), int64(2), object(13)\n",
      "memory usage: 16.8+ MB\n",
      "None\n"
     ]
    }
   ],
   "source": [
    "print(df.info())"
   ]
  },
  {
   "cell_type": "code",
   "execution_count": 13,
   "id": "ea0f3809-a583-49b5-9a39-325f7ad02920",
   "metadata": {},
   "outputs": [],
   "source": [
    "# Convert Date column to datetime\n",
    "df['Date'] = pd.to_datetime(df['Date'], format='mixed')"
   ]
  },
  {
   "cell_type": "code",
   "execution_count": 14,
   "id": "da53e756-7d1b-4c33-b883-d2956492d954",
   "metadata": {},
   "outputs": [],
   "source": [
    "df.to_csv('data_cleaned_sales.csv')"
   ]
  }
 ],
 "metadata": {
  "kernelspec": {
   "display_name": "Python 3 (ipykernel)",
   "language": "python",
   "name": "python3"
  },
  "language_info": {
   "codemirror_mode": {
    "name": "ipython",
    "version": 3
   },
   "file_extension": ".py",
   "mimetype": "text/x-python",
   "name": "python",
   "nbconvert_exporter": "python",
   "pygments_lexer": "ipython3",
   "version": "3.11.5"
  }
 },
 "nbformat": 4,
 "nbformat_minor": 5
}
